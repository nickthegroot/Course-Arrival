{
 "metadata": {
  "language_info": {
   "codemirror_mode": {
    "name": "ipython",
    "version": 3
   },
   "file_extension": ".py",
   "mimetype": "text/x-python",
   "name": "python",
   "nbconvert_exporter": "python",
   "pygments_lexer": "ipython3",
   "version": "3.8.5-final"
  },
  "orig_nbformat": 2,
  "kernelspec": {
   "name": "python3",
   "display_name": "Python 3.8.5 64-bit ('base': conda)",
   "metadata": {
    "interpreter": {
     "hash": "e134e05457d34029b6460cd73bbf1ed73f339b5b6d98c95be70b69eba114fe95"
    }
   }
  }
 },
 "nbformat": 4,
 "nbformat_minor": 2,
 "cells": [
  {
   "source": [
    "# Data Mining"
   ],
   "cell_type": "markdown",
   "metadata": {}
  },
  {
   "cell_type": "code",
   "execution_count": 1,
   "metadata": {},
   "outputs": [],
   "source": [
    "import pandas as pd\n",
    "import numpy as np\n",
    "import requests\n",
    "import re\n",
    "import time\n",
    "import unicodedata\n",
    "from bs4 import BeautifulSoup\n",
    "from uuid import uuid4"
   ]
  },
  {
   "cell_type": "code",
   "execution_count": 2,
   "metadata": {},
   "outputs": [],
   "source": [
    "from dataclasses import dataclass\n",
    "\n",
    "@dataclass\n",
    "class Course:\n",
    "    id: str\n",
    "    title: str\n",
    "    units: str\n",
    "    description: str"
   ]
  },
  {
   "cell_type": "code",
   "execution_count": 3,
   "metadata": {},
   "outputs": [],
   "source": [
    "depts_req = requests.get('https://catalog.ucsd.edu/front/courses.html')\n",
    "depts_bs = BeautifulSoup(depts_req.text)"
   ]
  },
  {
   "cell_type": "code",
   "execution_count": 4,
   "metadata": {},
   "outputs": [],
   "source": [
    "depts_elems = pd.Series(depts_bs.find_all('a', href=True)).map(lambda x: x['href'])\n",
    "dept_course_links = (\n",
    "    depts_elems[depts_elems.str.contains('/courses/')]\n",
    "    .str.lstrip('../')\n",
    "    .map(lambda x: 'https://catalog.ucsd.edu/' + x)\n",
    ")"
   ]
  },
  {
   "cell_type": "code",
   "execution_count": 5,
   "metadata": {},
   "outputs": [
    {
     "output_type": "stream",
     "name": "stdout",
     "text": [
      "Requesting AIP Courses\n",
      "Requesting AASM Courses\n",
      "Requesting AWP Courses\n",
      "Requesting ANTH Courses\n",
      "Requesting AUDL Courses\n",
      "Requesting BIOI Courses\n",
      "Requesting BIOL Courses\n",
      "Requesting BIOM Courses\n",
      "Requesting CHEM Courses\n",
      "Requesting CHIN Courses\n",
      "Requesting CLAS Courses\n",
      "Requesting CCS Courses\n",
      "Requesting CSP Courses\n",
      "Requesting CLIN Courses\n",
      "Requesting CLRE Courses\n",
      "Requesting COGS Courses\n",
      "Requesting COMM Courses\n",
      "Requesting CONT Courses\n",
      "Requesting CGS Courses\n",
      "Requesting CAT Courses\n",
      "Requesting DSC Courses\n",
      "Requesting DSGN Courses\n",
      "Requesting DOC Courses\n",
      "Requesting ECON Courses\n",
      "Requesting EDS Courses\n",
      "Requesting ERC Courses\n",
      "Requesting ENG Courses\n",
      "Requesting BENG Courses\n",
      "Requesting CSE Courses\n",
      "Requesting CSE-AESE Courses\n",
      "Requesting ECE Courses\n",
      "Requesting MAE Courses\n",
      "Requesting NANO Courses\n",
      "Requesting SE Courses\n",
      "Requesting ENVR Courses\n",
      "Requesting ESYS Courses\n",
      "Requesting ETHN Courses\n",
      "Requesting FILM Courses\n",
      "Requesting GLBH Courses\n",
      "Requesting GPS Courses\n",
      "Requesting GSS Courses\n",
      "Requesting LHCO Courses\n",
      "Requesting HIST Courses\n",
      "Requesting HDS Courses\n",
      "Requesting HMNR Courses\n",
      "Requesting HUM Courses\n",
      "Requesting INTL Courses\n",
      "Requesting JAPN Courses\n",
      "Requesting JWSP Courses\n",
      "Requesting LATI Courses\n",
      "Requesting LAWS Courses\n",
      "Requesting LING Courses\n",
      "Requesting LIT Courses\n",
      "Requesting MMW Courses\n",
      "Requesting MGT Courses\n",
      "Requesting MBC Courses\n",
      "Requesting MATS Courses\n",
      "Requesting MATH Courses\n",
      "Requesting MSED Courses\n",
      "Requesting MCWP Courses\n",
      "Requesting MUS Courses\n",
      "Requesting NEU Courses\n",
      "Requesting PHIL Courses\n",
      "Requesting PHYS Courses\n",
      "Requesting POLI Courses\n",
      "Requesting PSYC Courses\n",
      "Requesting FMPH Courses\n",
      "Requesting RELI Courses\n",
      "Requesting REV Courses\n",
      "Requesting SCIS Courses\n",
      "Requesting SIO Courses\n",
      "Requesting SEV Courses\n",
      "Requesting SXTH Courses\n",
      "Requesting SOC Courses\n",
      "Requesting SYN Courses\n",
      "Requesting THEA Courses\n",
      "Requesting TMC Courses\n",
      "Requesting USP Courses\n",
      "Requesting VIS Courses\n",
      "Requesting WARR Courses\n"
     ]
    }
   ],
   "source": [
    "depts_bs = {}\n",
    "for dept_url in dept_course_links:\n",
    "    time.sleep(2)\n",
    "    dept = dept_url.split('/')[-1].rstrip('.html')\n",
    "    print('Requesting %s Courses' % dept)\n",
    "    dept_page = requests.get(dept_url)\n",
    "    dept_bs = BeautifulSoup(dept_page.text)\n",
    "    depts_bs[dept] = dept_bs"
   ]
  },
  {
   "cell_type": "code",
   "execution_count": 8,
   "metadata": {},
   "outputs": [],
   "source": [
    "def extract_course_info(heading_elem):\n",
    "    course_heading_text = unicodedata.normalize('NFKD', heading_elem.text)\n",
    "\n",
    "    course_id_regex = re.search('[(]?\\w+[)]? ((\\d+\\w*)(, )?)+', course_heading_text)\n",
    "    if course_id_regex is None:\n",
    "        print(\"Warning! Did not find course id in %s\" % course_heading_text)\n",
    "        return None\n",
    "    course_id = course_id_regex.group(0).replace('(', '').replace(')', '')\n",
    "\n",
    "    course_units_regex = re.search('(\\d)', course_heading_text[course_id_regex.end(0):])\n",
    "    if course_units_regex is not None:\n",
    "        course_units = course_units_regex.group(0)\n",
    "        course_title = course_heading_text[course_id_regex.end(0)+2:course_id_regex.end(0)+course_units_regex.start(0)-2]\n",
    "    else:\n",
    "        course_units = None\n",
    "        course_title = course_heading_text[course_id_regex.end(0)+2:]\n",
    "\n",
    "    course_description_elem = heading_elem.find_next_sibling('p', 'course-descriptions')\n",
    "    if course_description_elem is not None:\n",
    "        course_description_text = unicodedata.normalize('NFKD', course_description_elem.text)\n",
    "    else:\n",
    "        course_description_text = None\n",
    "\n",
    "    return Course(\n",
    "        id=course_id,\n",
    "        title=course_title,\n",
    "        units=course_units,\n",
    "        description=course_description_text,\n",
    "    )"
   ]
  },
  {
   "cell_type": "code",
   "execution_count": 9,
   "metadata": {
    "tags": []
   },
   "outputs": [
    {
     "output_type": "stream",
     "name": "stdout",
     "text": [
      "AIP\n",
      "AASM\n",
      "AWP\n",
      "ANTH\n",
      "AUDL\n",
      "BIOI\n",
      "BIOL\n",
      "BIOM\n",
      "CHEM\n",
      "CHIN\n",
      "CLAS\n",
      "CCS\n",
      "CSP\n",
      "CLIN\n",
      "CLRE\n",
      "COGS\n",
      "COMM\n",
      "CONT\n",
      "CGS\n",
      "CAT\n",
      "DSC\n",
      "DSGN\n",
      "DOC\n",
      "ECON\n",
      "EDS\n",
      "ERC\n",
      "ENG\n",
      "BENG\n",
      "CSE\n",
      "CSE-AESE\n",
      "ECE\n",
      "MAE\n",
      "NANO\n",
      "SE\n",
      "ENVR\n",
      "ESYS\n",
      "ETHN\n",
      "FILM\n",
      "GLBH\n",
      "GPS\n",
      "GSS\n",
      "LHCO\n",
      "HIST\n",
      "HDS\n",
      "HMNR\n",
      "HUM\n",
      "INTL\n",
      "JAPN\n",
      "JWSP\n",
      "LATI\n",
      "LAWS\n",
      "LING\n",
      "LIT\n",
      "MMW\n",
      "MGT\n",
      "MBC\n",
      "Warning! Did not find course id in Electives. Varies (12)\n",
      "MATS\n",
      "MATH\n",
      "MSED\n",
      "MCWP\n",
      "MUS\n",
      "NEU\n",
      "PHIL\n",
      "PHYS\n",
      "POLI\n",
      "PSYC\n",
      "FMPH\n",
      "RELI\n",
      "REV\n",
      "SCIS\n",
      "SIO\n",
      "SEV\n",
      "SXTH\n",
      "SOC\n",
      "SYN\n",
      "THEA\n",
      "TMC\n",
      "USP\n",
      "VIS\n",
      "WARR\n"
     ]
    }
   ],
   "source": [
    "courses = []\n",
    "for dept, bs in depts_bs.items():\n",
    "    print(dept)\n",
    "    anchors = bs.find_all('p', 'course-name')\n",
    "    for anchor in anchors:\n",
    "        course = extract_course_info(anchor)\n",
    "        if course is not None:\n",
    "            courses.append(course)\n",
    "\n",
    "df = pd.DataFrame(courses).drop_duplicates()"
   ]
  },
  {
   "cell_type": "code",
   "execution_count": 10,
   "metadata": {},
   "outputs": [
    {
     "output_type": "execute_result",
     "data": {
      "text/plain": [
       "              id                                    title units  \\\n",
       "6277   TDGR 280C                          Stage Managemen     3   \n",
       "952     COGS 201             Neural Dynamics of Cognition     4   \n",
       "3046    HIEU 127                Sport in the Modern World     4   \n",
       "3163  HINE 136GS                 Zionism and Post Zionism     4   \n",
       "1830     CSE 218  Advanced Topics in Software Engineering     4   \n",
       "\n",
       "                                            description  \n",
       "6277  The final course in the three-part introductor...  \n",
       "952   This course surveys the development of symboli...  \n",
       "3046  This course looks at the phenomenon of sport i...  \n",
       "3163  This course explores the evolution of Zionism ...  \n",
       "1830  This course will cover a current topic in soft...  "
      ],
      "text/html": "<div>\n<style scoped>\n    .dataframe tbody tr th:only-of-type {\n        vertical-align: middle;\n    }\n\n    .dataframe tbody tr th {\n        vertical-align: top;\n    }\n\n    .dataframe thead th {\n        text-align: right;\n    }\n</style>\n<table border=\"1\" class=\"dataframe\">\n  <thead>\n    <tr style=\"text-align: right;\">\n      <th></th>\n      <th>id</th>\n      <th>title</th>\n      <th>units</th>\n      <th>description</th>\n    </tr>\n  </thead>\n  <tbody>\n    <tr>\n      <th>6277</th>\n      <td>TDGR 280C</td>\n      <td>Stage Managemen</td>\n      <td>3</td>\n      <td>The final course in the three-part introductor...</td>\n    </tr>\n    <tr>\n      <th>952</th>\n      <td>COGS 201</td>\n      <td>Neural Dynamics of Cognition</td>\n      <td>4</td>\n      <td>This course surveys the development of symboli...</td>\n    </tr>\n    <tr>\n      <th>3046</th>\n      <td>HIEU 127</td>\n      <td>Sport in the Modern World</td>\n      <td>4</td>\n      <td>This course looks at the phenomenon of sport i...</td>\n    </tr>\n    <tr>\n      <th>3163</th>\n      <td>HINE 136GS</td>\n      <td>Zionism and Post Zionism</td>\n      <td>4</td>\n      <td>This course explores the evolution of Zionism ...</td>\n    </tr>\n    <tr>\n      <th>1830</th>\n      <td>CSE 218</td>\n      <td>Advanced Topics in Software Engineering</td>\n      <td>4</td>\n      <td>This course will cover a current topic in soft...</td>\n    </tr>\n  </tbody>\n</table>\n</div>"
     },
     "metadata": {},
     "execution_count": 10
    }
   ],
   "source": [
    "df.sample(5)"
   ]
  },
  {
   "cell_type": "code",
   "execution_count": null,
   "metadata": {},
   "outputs": [],
   "source": []
  },
  {
   "source": [
    "## Cleaning"
   ],
   "cell_type": "markdown",
   "metadata": {}
  },
  {
   "cell_type": "code",
   "execution_count": 12,
   "metadata": {},
   "outputs": [],
   "source": [
    "@dataclass\n",
    "class CoursePreqs:\n",
    "    course_id: str\n",
    "    upper_div_only: bool\n",
    "    grad_only: bool\n",
    "    prereqs: set()\n",
    "\n",
    "@dataclass(frozen=True)\n",
    "class Preq:\n",
    "    id: uuid4\n",
    "    courses: frozenset\n",
    "    n_required = 1"
   ]
  },
  {
   "cell_type": "code",
   "execution_count": 39,
   "metadata": {},
   "outputs": [],
   "source": [
    "def parse_preqs(course_id, description):\n",
    "    if description is None or 'Prerequisites:' not in description:\n",
    "        return None\n",
    "\n",
    "    prereqs = description.split('Prerequisites:')[1].strip()\n",
    "    upper_div_only = 'upper-division standing' in prereqs\n",
    "    grad_only = 'graduate' in prereqs\n",
    "\n",
    "    depts = re.finditer('[A-Z]{2,4}', prereqs)\n",
    "    courses = re.finditer('(?<=[ ])\\d{1,3}\\w*', prereqs)\n",
    "\n",
    "    depts_df = pd.DataFrame([(x.group(0), x.start(0), x.end(0)) for x in depts], columns=['dept', 'start', 'end'])\n",
    "    courses_df = pd.DataFrame([(x.group(0), x.start(0), x.end(0)) for x in courses], columns=['course', 'start', 'end'])\n",
    "\n",
    "    def calc_course_join(course_start):\n",
    "        for i, dept in depts_df.iterrows():\n",
    "            if dept.start > course_start:\n",
    "                return depts_df.iloc[i-1].dept\n",
    "        return depts_df.iloc[-1].dept\n",
    "\n",
    "    prereq_courses = prereqs\n",
    "    try:\n",
    "        courses_df = courses_df.assign(dept = courses_df.start.map(calc_course_join))\n",
    "    except:\n",
    "        print('Failed to assign courses: %s' % course_id)\n",
    "        return None\n",
    "\n",
    "    for idx in reversed(courses_df.index):\n",
    "        course = courses_df.iloc[idx]\n",
    "        course_name = \"%s %s\" % (course.dept, course.course)\n",
    "        prereq_courses = prereq_courses[:course.start] + course_name + prereq_courses[course.end:]\n",
    "\n",
    "    prereq_courses = prereq_courses.split(' ')\n",
    "    prereq_courses = ' '.join([x for i, x in enumerate(prereq_courses) if i == len(prereq_courses) - 1 or prereq_courses[i] != prereq_courses[i+1]])\n",
    "\n",
    "    prereq_course_set = set()\n",
    "    for section in prereq_courses.split('and'):\n",
    "        section = section.strip()\n",
    "        courses = [x for x in re.findall('\\w{2,4} \\d+\\w*', section) if not x.startswith('GPA')]\n",
    "        if len(courses) == 0:\n",
    "            continue\n",
    "        courses = Preq(\n",
    "            id = str(uuid4()),\n",
    "            courses = frozenset(courses),\n",
    "        )\n",
    "        prereq_course_set.add(courses)\n",
    "    \n",
    "    return CoursePreqs(\n",
    "        course_id = course_id,\n",
    "        upper_div_only = upper_div_only,\n",
    "        grad_only = grad_only,\n",
    "        prereqs = prereq_course_set\n",
    "    )"
   ]
  },
  {
   "cell_type": "code",
   "execution_count": 40,
   "metadata": {
    "tags": []
   },
   "outputs": [
    {
     "output_type": "stream",
     "name": "stdout",
     "text": [
      "Failed to assign courses: COGS 190D\n",
      "Failed to assign courses: BENG 202\n",
      "Failed to assign courses: CSE 282\n",
      "Failed to assign courses: HIGR 215A\n",
      "Failed to assign courses: HIGR 216A\n",
      "Failed to assign courses: HIGR 230A\n",
      "Failed to assign courses: HIGR 267A\n",
      "Failed to assign courses: LIFR 5B, 5C, 5D\n",
      "Failed to assign courses: LIGM 5A, 5B, 5C, 5D\n",
      "Failed to assign courses: LISP 5A, 5B, 5C, 5D\n",
      "Failed to assign courses: MATH 104C\n",
      "Failed to assign courses: MATH 241A\n",
      "Failed to assign courses: NEU 426\n",
      "Failed to assign courses: NEU 427\n",
      "Failed to assign courses: POLI 247C\n",
      "Failed to assign courses: POLI 271\n",
      "Failed to assign courses: POLI 287\n",
      "Failed to assign courses: POLI 288\n",
      "Failed to assign courses: POLI 289\n"
     ]
    }
   ],
   "source": [
    "preqs = df.apply(lambda x: parse_preqs(x.id, x.description), axis=1);"
   ]
  },
  {
   "cell_type": "code",
   "execution_count": 41,
   "metadata": {
    "tags": []
   },
   "outputs": [],
   "source": [
    "parsed_preqs = pd.DataFrame(\n",
    "    preqs.apply(lambda x: (x.course_id, x.upper_div_only, x.grad_only, [y.id for y in x.prereqs]) if x is not None else None).to_list(),\n",
    "    columns=['id', 'upper_only', 'grad_only', 'prerequisites_id']\n",
    ")\n",
    "courses_merged = df.merge(parsed_preqs, on='id')"
   ]
  },
  {
   "cell_type": "code",
   "execution_count": 42,
   "metadata": {},
   "outputs": [
    {
     "output_type": "execute_result",
     "data": {
      "text/plain": [
       "             id                                           title units  \\\n",
       "0        AIP 97                             Academic Internship     2   \n",
       "1       AIP 197                     Academic Internship Program     2   \n",
       "2     AIP 197DC                 UCDC: Washington, DC Internship     6   \n",
       "3      AIP 197F             Academic Internship Program—Foreign     4   \n",
       "4      AIP 197P                       Public Service Internship     4   \n",
       "...         ...                                             ...   ...   \n",
       "5032   WCWP 10B                            The Writing Course B     4   \n",
       "5033   WCWP 100                                Academic Writing     4   \n",
       "5034   WCWP 160  Technical Writing for Scientists and Engineers     4   \n",
       "5035   WARR 189      Academic Mentoring and the Writing Process     2   \n",
       "5036   WCWP 500                     Apprentice Teaching in WCWP     2   \n",
       "\n",
       "                                            description upper_only grad_only  \\\n",
       "0     Individual placements for field learning. Must...      False      True   \n",
       "1     Individual internship placements integrated wi...       True     False   \n",
       "2     This internship is attached to the University ...       True     False   \n",
       "3     Individual placements for field learning oppor...      False     False   \n",
       "4     Individual placements for field learning assoc...      False     False   \n",
       "...                                                 ...        ...       ...   \n",
       "5032  A seminar-style course in reading and writing ...      False     False   \n",
       "5033  An upper-division workshop course in argumenta...      False     False   \n",
       "5034  An upper-division workshop-style writing cours...      False     False   \n",
       "5035  Students will gain a fundamental understanding...      False     False   \n",
       "5036  Consideration of pedagogical methods appropria...      False      True   \n",
       "\n",
       "                            prerequisites_id  \n",
       "0                                         []  \n",
       "1                                         []  \n",
       "2                                         []  \n",
       "3                                         []  \n",
       "4                                         []  \n",
       "...                                      ...  \n",
       "5032  [2d9db568-7b0a-4a4e-9423-8e789c41545f]  \n",
       "5033                                      []  \n",
       "5034                                      []  \n",
       "5035                                      []  \n",
       "5036                                      []  \n",
       "\n",
       "[5037 rows x 7 columns]"
      ],
      "text/html": "<div>\n<style scoped>\n    .dataframe tbody tr th:only-of-type {\n        vertical-align: middle;\n    }\n\n    .dataframe tbody tr th {\n        vertical-align: top;\n    }\n\n    .dataframe thead th {\n        text-align: right;\n    }\n</style>\n<table border=\"1\" class=\"dataframe\">\n  <thead>\n    <tr style=\"text-align: right;\">\n      <th></th>\n      <th>id</th>\n      <th>title</th>\n      <th>units</th>\n      <th>description</th>\n      <th>upper_only</th>\n      <th>grad_only</th>\n      <th>prerequisites_id</th>\n    </tr>\n  </thead>\n  <tbody>\n    <tr>\n      <th>0</th>\n      <td>AIP 97</td>\n      <td>Academic Internship</td>\n      <td>2</td>\n      <td>Individual placements for field learning. Must...</td>\n      <td>False</td>\n      <td>True</td>\n      <td>[]</td>\n    </tr>\n    <tr>\n      <th>1</th>\n      <td>AIP 197</td>\n      <td>Academic Internship Program</td>\n      <td>2</td>\n      <td>Individual internship placements integrated wi...</td>\n      <td>True</td>\n      <td>False</td>\n      <td>[]</td>\n    </tr>\n    <tr>\n      <th>2</th>\n      <td>AIP 197DC</td>\n      <td>UCDC: Washington, DC Internship</td>\n      <td>6</td>\n      <td>This internship is attached to the University ...</td>\n      <td>True</td>\n      <td>False</td>\n      <td>[]</td>\n    </tr>\n    <tr>\n      <th>3</th>\n      <td>AIP 197F</td>\n      <td>Academic Internship Program—Foreign</td>\n      <td>4</td>\n      <td>Individual placements for field learning oppor...</td>\n      <td>False</td>\n      <td>False</td>\n      <td>[]</td>\n    </tr>\n    <tr>\n      <th>4</th>\n      <td>AIP 197P</td>\n      <td>Public Service Internship</td>\n      <td>4</td>\n      <td>Individual placements for field learning assoc...</td>\n      <td>False</td>\n      <td>False</td>\n      <td>[]</td>\n    </tr>\n    <tr>\n      <th>...</th>\n      <td>...</td>\n      <td>...</td>\n      <td>...</td>\n      <td>...</td>\n      <td>...</td>\n      <td>...</td>\n      <td>...</td>\n    </tr>\n    <tr>\n      <th>5032</th>\n      <td>WCWP 10B</td>\n      <td>The Writing Course B</td>\n      <td>4</td>\n      <td>A seminar-style course in reading and writing ...</td>\n      <td>False</td>\n      <td>False</td>\n      <td>[2d9db568-7b0a-4a4e-9423-8e789c41545f]</td>\n    </tr>\n    <tr>\n      <th>5033</th>\n      <td>WCWP 100</td>\n      <td>Academic Writing</td>\n      <td>4</td>\n      <td>An upper-division workshop course in argumenta...</td>\n      <td>False</td>\n      <td>False</td>\n      <td>[]</td>\n    </tr>\n    <tr>\n      <th>5034</th>\n      <td>WCWP 160</td>\n      <td>Technical Writing for Scientists and Engineers</td>\n      <td>4</td>\n      <td>An upper-division workshop-style writing cours...</td>\n      <td>False</td>\n      <td>False</td>\n      <td>[]</td>\n    </tr>\n    <tr>\n      <th>5035</th>\n      <td>WARR 189</td>\n      <td>Academic Mentoring and the Writing Process</td>\n      <td>2</td>\n      <td>Students will gain a fundamental understanding...</td>\n      <td>False</td>\n      <td>False</td>\n      <td>[]</td>\n    </tr>\n    <tr>\n      <th>5036</th>\n      <td>WCWP 500</td>\n      <td>Apprentice Teaching in WCWP</td>\n      <td>2</td>\n      <td>Consideration of pedagogical methods appropria...</td>\n      <td>False</td>\n      <td>True</td>\n      <td>[]</td>\n    </tr>\n  </tbody>\n</table>\n<p>5037 rows × 7 columns</p>\n</div>"
     },
     "metadata": {},
     "execution_count": 42
    }
   ],
   "source": [
    "courses_merged"
   ]
  },
  {
   "cell_type": "code",
   "execution_count": 43,
   "metadata": {},
   "outputs": [],
   "source": [
    "courses_cleaned = courses_merged.drop('prerequisites_id', axis=1)\n",
    "courses_prerequisites = courses_merged[['id', 'prerequisites_id']].explode('prerequisites_id').dropna()"
   ]
  },
  {
   "cell_type": "code",
   "execution_count": 44,
   "metadata": {},
   "outputs": [
    {
     "output_type": "execute_result",
     "data": {
      "text/plain": [
       "                                  group_id  n_required    courses  \\\n",
       "0     4a995373-1597-4338-aab4-f32dc2d9230b           1     AWP 4A   \n",
       "1     9b5dfa96-8bf7-4d1f-b9da-86a52f3ac5d5           1  ANTH 196A   \n",
       "2     464500ce-4256-49cc-bf65-9556d36a9edd           1  ANTH 196A   \n",
       "3     629e0687-a350-40eb-9410-33ef9e721eff           1   ANPR 198   \n",
       "4     204bfa72-20a2-441d-affe-a3396c242545           1   ANPR 198   \n",
       "...                                    ...         ...        ...   \n",
       "3125  b29d126d-9903-4c8e-b981-0bd3e1995278           1   VIS 145A   \n",
       "3126  7e94c8cd-6f2a-4d0e-a449-18cbd7cb20db           1    VIS 142   \n",
       "3126  7e94c8cd-6f2a-4d0e-a449-18cbd7cb20db           1    VIS 135   \n",
       "3127  c78ebd7c-1296-46b3-a529-29885c297991           1     VIS 84   \n",
       "3128  2d9db568-7b0a-4a4e-9423-8e789c41545f           1   WCWP 10A   \n",
       "\n",
       "                                        id  \n",
       "0     4ec4d91e-187c-4474-abc4-cb9c9e99590a  \n",
       "1     38df2bd9-fc4d-4ea0-995a-5c740a67e7c5  \n",
       "2     91c0dff5-88fe-492d-b25f-d953af77fefc  \n",
       "3     4d842e8d-d778-4bf4-96e8-309b8efc5228  \n",
       "4     f4184707-093d-4852-8d50-ca3cd93bc750  \n",
       "...                                    ...  \n",
       "3125  01a9aaa1-1306-4ba0-8f4c-77af691d72f6  \n",
       "3126  aa5d1006-8300-46be-9ab6-1bfa33454c8d  \n",
       "3126  99e6be1a-785c-468a-826b-9f7b14354ad1  \n",
       "3127  40d3c25e-0828-4379-9883-7c892cfa2cf1  \n",
       "3128  6b9bbd66-97cf-48d3-990a-8fdbd477d6fb  \n",
       "\n",
       "[5531 rows x 4 columns]"
      ],
      "text/html": "<div>\n<style scoped>\n    .dataframe tbody tr th:only-of-type {\n        vertical-align: middle;\n    }\n\n    .dataframe tbody tr th {\n        vertical-align: top;\n    }\n\n    .dataframe thead th {\n        text-align: right;\n    }\n</style>\n<table border=\"1\" class=\"dataframe\">\n  <thead>\n    <tr style=\"text-align: right;\">\n      <th></th>\n      <th>group_id</th>\n      <th>n_required</th>\n      <th>courses</th>\n      <th>id</th>\n    </tr>\n  </thead>\n  <tbody>\n    <tr>\n      <th>0</th>\n      <td>4a995373-1597-4338-aab4-f32dc2d9230b</td>\n      <td>1</td>\n      <td>AWP 4A</td>\n      <td>4ec4d91e-187c-4474-abc4-cb9c9e99590a</td>\n    </tr>\n    <tr>\n      <th>1</th>\n      <td>9b5dfa96-8bf7-4d1f-b9da-86a52f3ac5d5</td>\n      <td>1</td>\n      <td>ANTH 196A</td>\n      <td>38df2bd9-fc4d-4ea0-995a-5c740a67e7c5</td>\n    </tr>\n    <tr>\n      <th>2</th>\n      <td>464500ce-4256-49cc-bf65-9556d36a9edd</td>\n      <td>1</td>\n      <td>ANTH 196A</td>\n      <td>91c0dff5-88fe-492d-b25f-d953af77fefc</td>\n    </tr>\n    <tr>\n      <th>3</th>\n      <td>629e0687-a350-40eb-9410-33ef9e721eff</td>\n      <td>1</td>\n      <td>ANPR 198</td>\n      <td>4d842e8d-d778-4bf4-96e8-309b8efc5228</td>\n    </tr>\n    <tr>\n      <th>4</th>\n      <td>204bfa72-20a2-441d-affe-a3396c242545</td>\n      <td>1</td>\n      <td>ANPR 198</td>\n      <td>f4184707-093d-4852-8d50-ca3cd93bc750</td>\n    </tr>\n    <tr>\n      <th>...</th>\n      <td>...</td>\n      <td>...</td>\n      <td>...</td>\n      <td>...</td>\n    </tr>\n    <tr>\n      <th>3125</th>\n      <td>b29d126d-9903-4c8e-b981-0bd3e1995278</td>\n      <td>1</td>\n      <td>VIS 145A</td>\n      <td>01a9aaa1-1306-4ba0-8f4c-77af691d72f6</td>\n    </tr>\n    <tr>\n      <th>3126</th>\n      <td>7e94c8cd-6f2a-4d0e-a449-18cbd7cb20db</td>\n      <td>1</td>\n      <td>VIS 142</td>\n      <td>aa5d1006-8300-46be-9ab6-1bfa33454c8d</td>\n    </tr>\n    <tr>\n      <th>3126</th>\n      <td>7e94c8cd-6f2a-4d0e-a449-18cbd7cb20db</td>\n      <td>1</td>\n      <td>VIS 135</td>\n      <td>99e6be1a-785c-468a-826b-9f7b14354ad1</td>\n    </tr>\n    <tr>\n      <th>3127</th>\n      <td>c78ebd7c-1296-46b3-a529-29885c297991</td>\n      <td>1</td>\n      <td>VIS 84</td>\n      <td>40d3c25e-0828-4379-9883-7c892cfa2cf1</td>\n    </tr>\n    <tr>\n      <th>3128</th>\n      <td>2d9db568-7b0a-4a4e-9423-8e789c41545f</td>\n      <td>1</td>\n      <td>WCWP 10A</td>\n      <td>6b9bbd66-97cf-48d3-990a-8fdbd477d6fb</td>\n    </tr>\n  </tbody>\n</table>\n<p>5531 rows × 4 columns</p>\n</div>"
     },
     "metadata": {},
     "execution_count": 44
    }
   ],
   "source": [
    "prereq_groups = preqs.apply(lambda x: list(x.prereqs) if x is not None else None).explode().dropna()\n",
    "prerequisites = pd.DataFrame(prereq_groups.apply(lambda x: (x.id, x.n_required, x.courses)).to_list(), columns=['group_id', 'n_required', 'courses'])\n",
    "prerequisites_cleaned = (\n",
    "    prerequisites\n",
    "    .assign(courses = prerequisites.courses.apply(lambda x: list(x)))\n",
    "    .explode('courses')\n",
    ")\n",
    "\n",
    "prerequisites_cleaned = prerequisites_cleaned.assign(id = [str(uuid4()) for x in range(prerequisites_cleaned.shape[0])])\n",
    "prerequisites_cleaned"
   ]
  },
  {
   "cell_type": "code",
   "execution_count": null,
   "metadata": {},
   "outputs": [],
   "source": []
  },
  {
   "source": [
    "## Saving to DB"
   ],
   "cell_type": "markdown",
   "metadata": {}
  },
  {
   "cell_type": "code",
   "execution_count": 6,
   "metadata": {},
   "outputs": [],
   "source": [
    "from sqlalchemy import create_engine"
   ]
  },
  {
   "cell_type": "code",
   "execution_count": 7,
   "metadata": {},
   "outputs": [],
   "source": [
    "engine = create_engine('<DB>')"
   ]
  },
  {
   "cell_type": "code",
   "execution_count": 27,
   "metadata": {},
   "outputs": [],
   "source": [
    "courses_cleaned.to_sql('courses', engine, method='multi')"
   ]
  },
  {
   "cell_type": "code",
   "execution_count": 45,
   "metadata": {},
   "outputs": [
    {
     "output_type": "execute_result",
     "data": {
      "text/plain": [
       "             id                      prerequisites_id\n",
       "10       AWP 4B  4a995373-1597-4338-aab4-f32dc2d9230b\n",
       "32    ANTH 196B  9b5dfa96-8bf7-4d1f-b9da-86a52f3ac5d5\n",
       "33    ANTH 196C  464500ce-4256-49cc-bf65-9556d36a9edd\n",
       "34     ANTH 197  629e0687-a350-40eb-9410-33ef9e721eff\n",
       "35     ANTH 198  204bfa72-20a2-441d-affe-a3396c242545\n",
       "...         ...                                   ...\n",
       "5011    VIS 185  80fb4bf4-a8ff-4493-be42-651ba51bd8bb\n",
       "5012    VIS 190  b29d126d-9903-4c8e-b981-0bd3e1995278\n",
       "5012    VIS 190  7e94c8cd-6f2a-4d0e-a449-18cbd7cb20db\n",
       "5013   VIS 194S  c78ebd7c-1296-46b3-a529-29885c297991\n",
       "5032   WCWP 10B  2d9db568-7b0a-4a4e-9423-8e789c41545f\n",
       "\n",
       "[3157 rows x 2 columns]"
      ],
      "text/html": "<div>\n<style scoped>\n    .dataframe tbody tr th:only-of-type {\n        vertical-align: middle;\n    }\n\n    .dataframe tbody tr th {\n        vertical-align: top;\n    }\n\n    .dataframe thead th {\n        text-align: right;\n    }\n</style>\n<table border=\"1\" class=\"dataframe\">\n  <thead>\n    <tr style=\"text-align: right;\">\n      <th></th>\n      <th>id</th>\n      <th>prerequisites_id</th>\n    </tr>\n  </thead>\n  <tbody>\n    <tr>\n      <th>10</th>\n      <td>AWP 4B</td>\n      <td>4a995373-1597-4338-aab4-f32dc2d9230b</td>\n    </tr>\n    <tr>\n      <th>32</th>\n      <td>ANTH 196B</td>\n      <td>9b5dfa96-8bf7-4d1f-b9da-86a52f3ac5d5</td>\n    </tr>\n    <tr>\n      <th>33</th>\n      <td>ANTH 196C</td>\n      <td>464500ce-4256-49cc-bf65-9556d36a9edd</td>\n    </tr>\n    <tr>\n      <th>34</th>\n      <td>ANTH 197</td>\n      <td>629e0687-a350-40eb-9410-33ef9e721eff</td>\n    </tr>\n    <tr>\n      <th>35</th>\n      <td>ANTH 198</td>\n      <td>204bfa72-20a2-441d-affe-a3396c242545</td>\n    </tr>\n    <tr>\n      <th>...</th>\n      <td>...</td>\n      <td>...</td>\n    </tr>\n    <tr>\n      <th>5011</th>\n      <td>VIS 185</td>\n      <td>80fb4bf4-a8ff-4493-be42-651ba51bd8bb</td>\n    </tr>\n    <tr>\n      <th>5012</th>\n      <td>VIS 190</td>\n      <td>b29d126d-9903-4c8e-b981-0bd3e1995278</td>\n    </tr>\n    <tr>\n      <th>5012</th>\n      <td>VIS 190</td>\n      <td>7e94c8cd-6f2a-4d0e-a449-18cbd7cb20db</td>\n    </tr>\n    <tr>\n      <th>5013</th>\n      <td>VIS 194S</td>\n      <td>c78ebd7c-1296-46b3-a529-29885c297991</td>\n    </tr>\n    <tr>\n      <th>5032</th>\n      <td>WCWP 10B</td>\n      <td>2d9db568-7b0a-4a4e-9423-8e789c41545f</td>\n    </tr>\n  </tbody>\n</table>\n<p>3157 rows × 2 columns</p>\n</div>"
     },
     "metadata": {},
     "execution_count": 45
    }
   ],
   "source": [
    "courses_prerequisites"
   ]
  },
  {
   "cell_type": "code",
   "execution_count": 46,
   "metadata": {},
   "outputs": [],
   "source": [
    "courses_prerequisites.to_sql('courses_prerequisites', engine, method='multi', if_exists='replace')"
   ]
  },
  {
   "cell_type": "code",
   "execution_count": 47,
   "metadata": {},
   "outputs": [],
   "source": [
    "prerequisites_cleaned.to_sql('prerequisites', engine, method='multi', if_exists='replace')"
   ]
  },
  {
   "cell_type": "code",
   "execution_count": null,
   "metadata": {},
   "outputs": [],
   "source": []
  }
 ]
}